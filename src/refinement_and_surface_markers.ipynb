{
 "cells": [
  {
   "cell_type": "markdown",
   "metadata": {},
   "source": [
    "# Interface markers and mesh refinement\n",
    "\n",
    "We start by reading in the mesh generated in [Generating brain meshes](../generate_brain_mesh.ipynb).\n"
   ]
  },
  {
   "cell_type": "code",
   "execution_count": null,
   "metadata": {},
   "outputs": [],
   "source": [
    "from mpi4py import MPI\n",
    "import dolfinx\n",
    "from pathlib import Path\n",
    "import os\n",
    "\n",
    "folder = Path(os.environ[\"WILDFENICS_DATA_PATH\"])\n",
    "assert folder.exists(), \"Could not find surface files\"\n",
    "\n",
    "with dolfinx.io.XDMFFile(MPI.COMM_WORLD, folder / \"brain.xdmf\", \"r\") as xdmf:\n",
    "    brain_with_csf = xdmf.read_mesh(dolfinx.cpp.mesh.GhostMode.none)\n",
    "    region_markers = xdmf.read_meshtags(brain_with_csf, name=\"mesh_tags\")"
   ]
  },
  {
   "cell_type": "markdown",
   "metadata": {},
   "source": [
    "The meshes generated with Wildmeshing has a more or less uniform cell size. In some cases this is ok, but for fluid flow simulations, we need a finer mesh in the very thin regions, such as the cerebral aquaduct and in the subarachnoid spaces.\n"
   ]
  },
  {
   "cell_type": "markdown",
   "metadata": {},
   "source": [
    "The following maps the various regions to an integer marker\n"
   ]
  },
  {
   "cell_type": "code",
   "execution_count": null,
   "metadata": {},
   "outputs": [],
   "source": [
    "subdomain_map = {\n",
    "    \"PAR\": (2,),\n",
    "    \"SAS\": (1,),\n",
    "    \"LV\": (3,),\n",
    "    \"V34\": (4,),\n",
    "}"
   ]
  },
  {
   "cell_type": "code",
   "execution_count": null,
   "metadata": {},
   "outputs": [],
   "source": [
    "import pyvista\n",
    "\n",
    "pyvista.global_theme.allow_empty_mesh = True\n",
    "pv_grid = pyvista.UnstructuredGrid(*dolfinx.plot.vtk_mesh(brain_with_csf))\n",
    "pv_grid.cell_data[\"marker\"] = region_markers.values\n",
    "clipped = pv_grid.clip(\"y\")\n",
    "pyvista.start_xvfb(1.0)\n",
    "plotter = pyvista.Plotter()\n",
    "plotter.add_mesh(clipped, categories=True)\n",
    "plotter.show()"
   ]
  },
  {
   "cell_type": "markdown",
   "metadata": {},
   "source": [
    "The fluid regions can be gathered in a sequence of integers as\n"
   ]
  },
  {
   "cell_type": "code",
   "execution_count": null,
   "metadata": {},
   "outputs": [],
   "source": [
    "fluid_domains = subdomain_map[\"LV\"] + subdomain_map[\"SAS\"] + subdomain_map[\"V34\"]"
   ]
  },
  {
   "cell_type": "markdown",
   "metadata": {},
   "source": [
    "(marking-interfaces)=\n",
    "\n",
    "## Marking interfaces\n",
    "\n",
    "With the refined mesh, we are ready to create markers between the various interfaces in the brain. As in {cite}`Causemann2025`, we will divide the brain parenchyma into the following interfaces:\n",
    "\n",
    "- Lateral ventricle - brain parenchyma (`\"LV_PAR\"`): The interface between the CSF filled regions called the lateral ventricles and the brain tissue.\n",
    "- 3rd/4th ventricle - brain parenchyma (`\"V34_PAR\"`): The interface between the CSF filled regions called the 3rd and 4th ventricles and the brain tissue\n",
    "- Brain parenchyma - Subarachnoid space (`\"PAR_SAS\"`): The interface between the remaining CSF spaces in the brain and the brain tissue.\n",
    "- Subarachnoid space - Upper dura matter (`\"AM_U\"`): The interface between the SAS and the upper part of the dura matter, called the arachnoid matter.\n",
    "- Subarachnoid space - Lower dura matter (`\"AM_L\"`): The interface between the SAS and the lower part of the dura matter.\n",
    "\n",
    "We define the following map that assigns an integer tag to each of these regions\n"
   ]
  },
  {
   "cell_type": "code",
   "execution_count": null,
   "metadata": {},
   "outputs": [],
   "source": [
    "interface_map = {\n",
    "    \"LV_PAR\": 1,\n",
    "    \"V34_PAR\": 2,\n",
    "    \"PAR_SAS\": 5,\n",
    "    \"AM_U\": 3,\n",
    "    \"AM_L\": 4,\n",
    "}"
   ]
  },
  {
   "cell_type": "markdown",
   "metadata": {},
   "source": [
    "We define the divide between the upper and lower arachnoid matter with the following (patient specific) geometrical function\n"
   ]
  },
  {
   "cell_type": "code",
   "execution_count": null,
   "metadata": {},
   "outputs": [],
   "source": [
    "def AM_U_function(x, upper_skull_z=0.027):\n",
    "    \"\"\"Indicator function that returns True whenever the point x is in the AM_U region\"\"\"\n",
    "    return x[2] - 0.8 * x[1] > upper_skull_z"
   ]
  },
  {
   "cell_type": "markdown",
   "metadata": {},
   "source": [
    "With this definition at hand, we can define the various interface markers.\n",
    "We start by finding all facets in the mesh that is exterior, i.e. is only connected to a single cell. These facets will be the union of `\"AM_U\"` and `\"AM_L\"`.\n"
   ]
  },
  {
   "cell_type": "code",
   "execution_count": null,
   "metadata": {},
   "outputs": [],
   "source": [
    "tdim = brain_with_csf.topology.dim\n",
    "brain_with_csf.topology.create_connectivity(tdim - 1, tdim)\n",
    "AM_UL = dolfinx.mesh.exterior_facet_indices(brain_with_csf.topology)"
   ]
  },
  {
   "cell_type": "markdown",
   "metadata": {},
   "source": [
    "Next, we can find the different interfaces between the various regions in the brain.\n"
   ]
  },
  {
   "cell_type": "code",
   "execution_count": null,
   "metadata": {},
   "outputs": [],
   "source": [
    "import scifem\n",
    "import numpy as np\n",
    "\n",
    "LV_PAR = scifem.mesh.find_interface(\n",
    "    region_markers, subdomain_map[\"PAR\"], subdomain_map[\"LV\"]\n",
    ")\n",
    "V34_PAR = scifem.mesh.find_interface(\n",
    "    region_markers, subdomain_map[\"PAR\"], subdomain_map[\"V34\"]\n",
    ")\n",
    "PAR_SAS = scifem.mesh.find_interface(\n",
    "    region_markers, subdomain_map[\"PAR\"], subdomain_map[\"SAS\"]\n",
    ")\n",
    "AM_U = dolfinx.mesh.locate_entities_boundary(brain_with_csf, tdim - 1, AM_U_function)"
   ]
  },
  {
   "cell_type": "markdown",
   "metadata": {},
   "source": [
    "With all the various facets of interest located, we can store them in an distributed array.\n"
   ]
  },
  {
   "cell_type": "code",
   "execution_count": null,
   "metadata": {},
   "outputs": [],
   "source": [
    "facet_map = brain_with_csf.topology.index_map(tdim - 1)\n",
    "facet_vec = dolfinx.la.vector(facet_map)\n",
    "facet_marker = facet_vec.array\n",
    "facet_marker[:] = -1\n",
    "facet_marker[AM_UL] = interface_map[\"AM_L\"]\n",
    "# NOTE: Upper skull should always happen after lower skull\n",
    "facet_marker[AM_U] = interface_map[\"AM_U\"]\n",
    "facet_marker[PAR_SAS] = interface_map[\"PAR_SAS\"]\n",
    "facet_marker[LV_PAR] = interface_map[\"LV_PAR\"]\n",
    "facet_marker[V34_PAR] = interface_map[\"V34_PAR\"]\n",
    "facet_vec.scatter_forward()"
   ]
  },
  {
   "cell_type": "markdown",
   "metadata": {},
   "source": [
    "We filter out unmarked facets, which are those interior to each subdomain.\n"
   ]
  },
  {
   "cell_type": "code",
   "execution_count": null,
   "metadata": {},
   "outputs": [],
   "source": [
    "interface_marker = facet_marker.astype(np.int32)\n",
    "facet_pos = interface_marker != -1\n",
    "interface_tag = dolfinx.mesh.meshtags(\n",
    "    brain_with_csf,\n",
    "    tdim - 1,\n",
    "    np.flatnonzero(facet_pos),\n",
    "    interface_marker[facet_pos],\n",
    ")\n",
    "interface_tag.name = \"interfaces_and_boundaries\""
   ]
  },
  {
   "cell_type": "code",
   "execution_count": null,
   "metadata": {},
   "outputs": [],
   "source": [
    "filename = folder / \"marked_brain.xdmf\"\n",
    "with dolfinx.io.XDMFFile(MPI.COMM_WORLD, filename, \"w\") as xdmf:\n",
    "    xdmf.write_mesh(brain_with_csf)\n",
    "    xdmf.write_meshtags(region_markers, brain_with_csf.geometry)\n",
    "    xdmf.write_meshtags(interface_tag, brain_with_csf.geometry)"
   ]
  },
  {
   "cell_type": "markdown",
   "metadata": {},
   "source": [
    "We store the interface markers along with the mesh\n"
   ]
  },
  {
   "cell_type": "markdown",
   "metadata": {},
   "source": [
    "# Mesh refinement\n",
    "\n",
    "For realistic fluid flow modelling, we need to refine the mesh, especially in the narrow aquaduct connecting the venctriles with the subarachnoid space.\n",
    "We will refine all cells (tetrahedra) whose facet is considered external, i.e. it does not connect to another fluid cell. We create the following convenience function to locate these cells.\n",
    "We will transfer the interface markers from the coarse grid to the finer grid.\n"
   ]
  },
  {
   "cell_type": "code",
   "execution_count": null,
   "metadata": {},
   "outputs": [],
   "source": [
    "def compute_subdomain_exterior_cells(\n",
    "    mesh: dolfinx.mesh.Mesh, ct: dolfinx.mesh.MeshTags, markers: tuple[int, ...]\n",
    "):\n",
    "    \"\"\"Compute the exterior boundary of a set of subdomains.\n",
    "\n",
    "    Args:\n",
    "        mesh: Mesh to extract subdomains from\n",
    "        ct: MeshTags object marking subdomains\n",
    "        markers: The tags making up the \"new\" mesh\n",
    "    Returns:\n",
    "        Cells which has a facet on the exterior boundary of the subdomains.\n",
    "    \"\"\"\n",
    "    # Find facets that are considered exterior\n",
    "    subdomain_exterior_facets = scifem.mesh.compute_subdomain_exterior_facets(\n",
    "        mesh, ct, markers\n",
    "    )\n",
    "    tdim = mesh.topology.dim\n",
    "    assert ct.dim == tdim\n",
    "    sub_cells = dolfinx.mesh.compute_incident_entities(\n",
    "        mesh.topology,\n",
    "        subdomain_exterior_facets,\n",
    "        tdim - 1,\n",
    "        tdim,\n",
    "    )\n",
    "    full_subdomain = ct.indices[\n",
    "        np.isin(ct.values, np.asarray(markers, dtype=ct.values.dtype))\n",
    "    ]\n",
    "    cell_map = mesh.topology.index_map(tdim)\n",
    "    return scifem.mesh.reverse_mark_entities(\n",
    "        cell_map, np.intersect1d(full_subdomain, sub_cells)\n",
    "    )"
   ]
  },
  {
   "cell_type": "markdown",
   "metadata": {},
   "source": [
    "With this function at hand, we can locally refine our mesh.\n"
   ]
  },
  {
   "cell_type": "code",
   "execution_count": null,
   "metadata": {},
   "outputs": [],
   "source": [
    "# Refine parent mesh within ventricles\n",
    "num_refinements = 2\n",
    "if num_refinements == 0:\n",
    "    refined_mesh = brain_with_csf\n",
    "    refined_regions = region_markers\n",
    "    num_cells = brain_with_csf.topology.index_map(3).size_global\n",
    "    print(f\"Mesh, #Cells={num_cells}\")\n",
    "for i in range(num_refinements):\n",
    "    # Refine parent mesh within ventricles\n",
    "    refine_cells = region_markers.indices[\n",
    "        np.isin(\n",
    "            region_markers.values,\n",
    "            np.asarray(subdomain_map[\"V34\"] + subdomain_map[\"LV\"]),\n",
    "        )\n",
    "    ]\n",
    "\n",
    "    # Find all cells associated with outer boundary (dura) and refine the cells they correspond to\n",
    "    brain_with_csf.topology.create_connectivity(\n",
    "        brain_with_csf.topology.dim - 1, brain_with_csf.topology.dim\n",
    "    )\n",
    "    fmap = brain_with_csf.topology.index_map(brain_with_csf.topology.dim - 1)\n",
    "    exterior_facet_indices = scifem.mesh.reverse_mark_entities(\n",
    "        fmap, dolfinx.mesh.exterior_facet_indices(brain_with_csf.topology)\n",
    "    )\n",
    "    boundary_cells = dolfinx.mesh.compute_incident_entities(\n",
    "        brain_with_csf.topology,\n",
    "        exterior_facet_indices,\n",
    "        brain_with_csf.topology.dim - 1,\n",
    "        brain_with_csf.topology.dim,\n",
    "    )\n",
    "\n",
    "    fluid_boundary_cells = compute_subdomain_exterior_cells(\n",
    "        brain_with_csf, region_markers, fluid_domains\n",
    "    )\n",
    "\n",
    "    # For any further refinement, only refine the boundary of the fluid domains, not the interior\n",
    "    if i < 1:\n",
    "        cells_to_refine = np.unique(\n",
    "            np.hstack([boundary_cells, fluid_boundary_cells, refine_cells])\n",
    "        ).astype(np.int32)\n",
    "\n",
    "    else:\n",
    "        cells_to_refine = refine_cells\n",
    "\n",
    "    edges_to_refine = dolfinx.mesh.compute_incident_entities(\n",
    "        brain_with_csf.topology, cells_to_refine, brain_with_csf.topology.dim, 1\n",
    "    )\n",
    "    edge_map = brain_with_csf.topology.index_map(1)\n",
    "    edges_to_refine = scifem.mesh.reverse_mark_entities(edge_map, edges_to_refine)\n",
    "    refined_mesh, parent_cell, parent_facet = dolfinx.mesh.refine(\n",
    "        brain_with_csf,\n",
    "        edges_to_refine,\n",
    "        partitioner=None,\n",
    "        option=dolfinx.mesh.RefinementOption.parent_cell_and_facet,\n",
    "    )\n",
    "    refined_regions = dolfinx.mesh.transfer_meshtag(\n",
    "        region_markers, refined_mesh, parent_cell\n",
    "    )\n",
    "    refined_mesh.topology.create_connectivity(\n",
    "        refined_mesh.topology.dim - 1, refined_mesh.topology.dim\n",
    "    )\n",
    "    refined_interfaces = dolfinx.mesh.transfer_meshtag(\n",
    "        interface_tag, refined_mesh, parent_cell, parent_facet\n",
    "    )\n",
    "    refined_regions.name = region_markers.name\n",
    "    refined_interfaces.name = interface_tag.name\n",
    "    interface_tag = refined_interfaces\n",
    "    brain_with_csf = refined_mesh\n",
    "    region_markers = refined_regions\n",
    "    num_cells = brain_with_csf.topology.index_map(3).size_global\n",
    "    print(f\"Mesh refinement {i + 1}, #Cells={num_cells}\")"
   ]
  },
  {
   "cell_type": "markdown",
   "metadata": {},
   "source": [
    "We store the refined mesh and the corresponding cell and facet markers.\n"
   ]
  },
  {
   "cell_type": "code",
   "execution_count": null,
   "metadata": {},
   "outputs": [],
   "source": [
    "with dolfinx.io.XDMFFile(MPI.COMM_WORLD, filename, \"w\") as xdmf:\n",
    "    xdmf.write_mesh(brain_with_csf)\n",
    "    xdmf.write_meshtags(region_markers, brain_with_csf.geometry)\n",
    "    xdmf.write_meshtags(interface_tag, brain_with_csf.geometry)"
   ]
  },
  {
   "cell_type": "markdown",
   "metadata": {},
   "source": [
    "We visualize the surface markers\n"
   ]
  },
  {
   "cell_type": "code",
   "execution_count": null,
   "metadata": {},
   "outputs": [],
   "source": [
    "import pyvista\n",
    "\n",
    "pv_grid = pyvista.UnstructuredGrid(\n",
    "    *dolfinx.plot.vtk_mesh(brain_with_csf, tdim - 1, interface_tag.indices)\n",
    ")\n",
    "pv_grid.cell_data[\"marker\"] = interface_tag.values\n",
    "clipped = pv_grid.clip(\"y\")\n",
    "pyvista.start_xvfb(1.0)\n",
    "plotter = pyvista.Plotter()\n",
    "plotter.add_mesh(clipped, categories=True)\n",
    "plotter.show()"
   ]
  },
  {
   "cell_type": "markdown",
   "metadata": {},
   "source": [
    "## References\n",
    "\n",
    "```{bibliography}\n",
    ":filter: docname in docnames\n",
    "```\n"
   ]
  },
  {
   "cell_type": "markdown",
   "metadata": {},
   "source": []
  }
 ],
 "metadata": {
  "language_info": {
   "name": "python"
  }
 },
 "nbformat": 4,
 "nbformat_minor": 2
}

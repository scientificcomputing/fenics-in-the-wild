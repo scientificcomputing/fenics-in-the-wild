{
 "cells": [
  {
   "cell_type": "code",
   "execution_count": 1,
   "metadata": {},
   "outputs": [],
   "source": [
    "from mpi4py import MPI\n",
    "import wildmeshing\n",
    "import dolfinx\n",
    "from pathlib import Path\n",
    "import json"
   ]
  },
  {
   "cell_type": "code",
   "execution_count": 2,
   "metadata": {},
   "outputs": [
    {
     "name": "stdout",
     "output_type": "stream",
     "text": [
      "TBB threads 16\n",
      "o-[I/O         ] Loading file /root/shared/src/ucs/../../stl_files/mhornkjol-mri2fem-ii-chapter-3-code-ff74dab/stl_files/ventricles.final.stl...\n",
      "                 (FP64) nb_v:134064 nb_e:0 nb_f:44688 nb_b:134064 tri:1 dim:3\n",
      "                 Attributes on vertices: point[3]\n",
      "                 Loading file /root/shared/src/ucs/../../stl_files/mhornkjol-mri2fem-ii-chapter-3-code-ff74dab/stl_files/rhchoroid.plexus.final.stl...\n",
      "                 (FP64) nb_v:7908 nb_e:0 nb_f:2636 nb_b:7908 tri:1 dim:3\n",
      "                 Attributes on vertices: point[3]\n",
      "bbox_diag_length = 145.674\n",
      "ideal_edge_length = 14.5674\n",
      "stage = 2\n",
      "eps_input = 0.145674\n",
      "eps = 0.0806437\n",
      "eps_simplification = 0.064515\n",
      "eps_coplanar = 0.000145674\n",
      "dd = 0.0971161\n",
      "dd_simplification = 0.0776929\n"
     ]
    }
   ],
   "source": [
    "folder = Path(\"../../stl_files/mhornkjol-mri2fem-ii-chapter-3-code-ff74dab/stl_files/\")\n",
    "assert folder.exists(), \"Could not find stl files\"\n",
    "tree = {\"operation\":\"union\",\n",
    "        \"left\": str((folder/\"ventricles.final.stl\").absolute().as_posix()),\n",
    "        \"right\": str((folder/\"rhchoroid.plexus.final.stl\").absolute().as_posix())\n",
    "       }\n",
    "tetra = wildmeshing.Tetrahedralizer(stop_quality=100, max_its=30, edge_length_r=0.1)\n",
    "tetra.load_csg_tree(json.dumps(tree))"
   ]
  },
  {
   "cell_type": "code",
   "execution_count": 3,
   "metadata": {},
   "outputs": [
    {
     "name": "stdout",
     "output_type": "stream",
     "text": [
      "None\n",
      "[2025-02-17 08:38:50.200] [float-tetwild] [info] remove duplicates: \n",
      "[2025-02-17 08:38:50.200] [float-tetwild] [info] #v: 141972 -> 23655\n",
      "[2025-02-17 08:38:50.200] [float-tetwild] [info] #f: 47324 -> 47324\n",
      "collapsing 1.01889\n",
      "swapping 0.014188\n",
      "[2025-02-17 08:38:51.239] [float-tetwild] [info] remove duplicates: \n",
      "[2025-02-17 08:38:51.239] [float-tetwild] [info] #v: 6583 -> 6583\n",
      "[2025-02-17 08:38:51.239] [float-tetwild] [info] #f: 13180 -> 13180\n",
      "[2025-02-17 08:38:51.239] [float-tetwild] [info] #v = 6583\n",
      "[2025-02-17 08:38:51.239] [float-tetwild] [info] #f = 13179\n",
      "#boundary_e1 = 1\n",
      "#boundary_e2 = 2\n",
      "[2025-02-17 08:38:51.250] [float-tetwild] [info] preprocessing 1.07112s\n",
      "[2025-02-17 08:38:51.250] [float-tetwild] [info] \n",
      "[2025-02-17 08:38:51.306] [float-tetwild] [info] #v = 8433\n",
      "[2025-02-17 08:38:51.306] [float-tetwild] [info] #t = 50157\n",
      "[2025-02-17 08:38:51.306] [float-tetwild] [info] tetrahedralizing 0.056272s\n",
      "[2025-02-17 08:38:51.306] [float-tetwild] [info] \n",
      "[2025-02-17 08:38:51.306] [float-tetwild] [info] triangle insertion start, #f = 13179, #v = 8433, #t = 50157\n",
      "[2025-02-17 08:38:51.321] [float-tetwild] [info] matched #f = 11051, uninserted #f = 2128\n",
      "[2025-02-17 08:38:51.753] [float-tetwild] [info] insert_one_triangle * n done, #v = 14373, #t = 81361\n",
      "[2025-02-17 08:38:51.753] [float-tetwild] [info] uninserted #f = 0/2128\n",
      "[2025-02-17 08:38:51.753] [float-tetwild] [info] total timing: 0s\n",
      "[2025-02-17 08:38:51.780] [float-tetwild] [info] pair_track_surface_fs done\n",
      "#boundary_e1 = 1\n",
      "#boundary_e2 = 2\n",
      "[2025-02-17 08:38:51.784] [float-tetwild] [info] find_boundary_edges done\n",
      "[2025-02-17 08:38:51.786] [float-tetwild] [info] time1 = 0.002432\n",
      "[2025-02-17 08:38:51.786] [float-tetwild] [info] uninsert boundary #e = 0/3\n",
      "[2025-02-17 08:38:51.786] [float-tetwild] [info] time2 = 1e-06\n",
      "[2025-02-17 08:38:51.786] [float-tetwild] [info] time3 = 6.2e-05\n",
      "[2025-02-17 08:38:51.786] [float-tetwild] [info] time4 = 0\n",
      "[2025-02-17 08:38:51.786] [float-tetwild] [info] time5 = 0\n",
      "[2025-02-17 08:38:51.786] [float-tetwild] [info] time6 = 0\n",
      "[2025-02-17 08:38:51.787] [float-tetwild] [info] uninserted #f = 0/2128\n",
      "known_surface_fs.size = 0\n",
      "known_not_surface_fs.size = 0\n",
      "[2025-02-17 08:38:52.133] [float-tetwild] [info] mark_surface_fs done\n",
      "[2025-02-17 08:38:52.133] [float-tetwild] [info] #b_edge1 = 3, #b_edges2 = 0\n",
      "[2025-02-17 08:38:52.135] [float-tetwild] [info] cutting 0.829392s\n",
      "[2025-02-17 08:38:52.135] [float-tetwild] [info] \n",
      "initializing...\n",
      "edge collapsing...\n",
      "fixed 0 tangled element\n",
      "success(env) = 4605\n",
      "success = 6281(115482)\n",
      "success(env) = 154\n",
      "success = 237(79100)\n",
      "success(env) = 7\n",
      "success = 46(20639)\n",
      "success(env) = 0\n",
      "success = 10(2688)\n",
      "success(env) = 0\n",
      "success = 0(306)\n",
      "edge collapsing done!\n",
      "time = 1.04982s\n",
      "#v = 7737\n",
      "#t = 46157\n",
      "max_energy = 535.115\n",
      "avg_energy = 11.0796\n",
      "//////////////// pass 0 ////////////////\n",
      "edge splitting...\n",
      "fixed 0 tangled element\n",
      "success = 597(597)\n",
      "edge splitting done!\n",
      "time = 0.022769s\n",
      "#v = 8334\n",
      "#t = 48819\n",
      "max_energy = 535.115\n",
      "avg_energy = 10.7138\n",
      "edge collapsing...\n",
      "fixed 0 tangled element\n",
      "success(env) = 0\n",
      "success = 431(98017)\n",
      "success(env) = 0\n",
      "success = 48(9559)\n",
      "success(env) = 0\n",
      "success = 15(2274)\n",
      "success(env) = 0\n",
      "success = 7(553)\n",
      "success(env) = 0\n",
      "success = 2(290)\n",
      "success(env) = 0\n",
      "success = 2(33)\n",
      "success(env) = 0\n",
      "success = 0(28)\n",
      "edge collapsing done!\n",
      "time = 0.38868s\n",
      "#v = 7829\n",
      "#t = 46571\n",
      "max_energy = 535.115\n",
      "avg_energy = 10.9953\n",
      "edge swapping...\n",
      "fixed 0 tangled element\n",
      "success3 = 5498\n",
      "success4 = 5281\n",
      "success5 = 575\n",
      "success = 11354(49658)\n",
      "edge swapping done!\n",
      "time = 0.255714s\n",
      "#v = 7829\n",
      "#t = 41648\n",
      "max_energy = 159.855\n",
      "avg_energy = 9.41248\n",
      "vertex smoothing...\n",
      "success = 3683(7116)\n",
      "vertex smoothing done!\n",
      "time = 0.087477s\n",
      "#v = 7829\n",
      "#t = 41648\n",
      "max_energy = 159.855\n",
      "avg_energy = 8.25715\n",
      "//////////////// pass 1 ////////////////\n",
      "edge splitting...\n",
      "fixed 0 tangled element\n",
      "success = 335(335)\n",
      "edge splitting done!\n",
      "time = 0.02269s\n",
      "#v = 8164\n",
      "#t = 43131\n",
      "max_energy = 159.855\n",
      "avg_energy = 8.12423\n",
      "edge collapsing...\n",
      "fixed 0 tangled element\n",
      "success(env) = 433\n",
      "success = 794(86708)\n",
      "success(env) = 21\n",
      "success = 69(39671)\n",
      "success(env) = 3\n",
      "success = 18(5167)\n",
      "success(env) = 0\n",
      "success = 1(957)\n",
      "success(env) = 0\n",
      "success = 0(19)\n",
      "edge collapsing done!\n",
      "time = 0.513171s\n",
      "#v = 7282\n",
      "#t = 39042\n",
      "max_energy = 159.855\n",
      "avg_energy = 8.13791\n",
      "edge swapping...\n",
      "fixed 0 tangled element\n",
      "success3 = 1007\n",
      "success4 = 2473\n",
      "success5 = 263\n",
      "success = 3743(27524)\n",
      "edge swapping done!\n",
      "time = 0.1385s\n",
      "#v = 7282\n",
      "#t = 38298\n",
      "max_energy = 59.2732\n",
      "avg_energy = 7.80903\n",
      "vertex smoothing...\n",
      "success = 2925(6646)\n",
      "vertex smoothing done!\n",
      "time = 0.08031s\n",
      "#v = 7282\n",
      "#t = 38298\n",
      "max_energy = 55.911\n",
      "avg_energy = 7.55753\n",
      "//////////////// postprocessing ////////////////\n",
      "edge collapsing...\n",
      "fixed 0 tangled element\n",
      "success(env) = 133\n",
      "success = 201(79559)\n",
      "success(env) = 3\n",
      "success = 13(17615)\n",
      "success(env) = 0\n",
      "success = 2(793)\n",
      "success(env) = 0\n",
      "success = 0(151)\n",
      "edge collapsing done!\n",
      "time = 0.311074s\n",
      "#v = 7066\n",
      "#t = 37282\n",
      "max_energy = 55.911\n",
      "avg_energy = 7.57363\n",
      "edge collapsing...\n",
      "fixed 0 tangled element\n",
      "success(env) = 544\n",
      "success = 1481(75221)\n",
      "success(env) = 34\n",
      "success = 41(50000)\n",
      "success(env) = 2\n",
      "success = 2(5167)\n",
      "success(env) = 0\n",
      "success = 0(282)\n",
      "edge collapsing done!\n",
      "time = 0.792581s\n",
      "#v = 5542\n",
      "#t = 29935\n",
      "max_energy = 99.8198\n",
      "avg_energy = 10.6966\n",
      "edge swapping...\n",
      "fixed 0 tangled element\n",
      "success3 = 1024\n",
      "success4 = 2496\n",
      "success5 = 639\n",
      "success = 4159(23222)\n",
      "edge swapping done!\n",
      "time = 0.122853s\n",
      "#v = 5542\n",
      "#t = 29550\n",
      "max_energy = 82.8589\n",
      "avg_energy = 9.37668\n",
      "edge collapsing...\n",
      "fixed 0 tangled element\n",
      "success(env) = 96\n",
      "success = 149(63513)\n",
      "success(env) = 4\n",
      "success = 4(20766)\n",
      "success(env) = 0\n",
      "success = 0(819)\n",
      "edge collapsing done!\n",
      "time = 0.451652s\n",
      "#v = 5389\n",
      "#t = 28702\n",
      "max_energy = 91.6297\n",
      "avg_energy = 10.0474\n",
      "edge swapping...\n",
      "fixed 0 tangled element\n",
      "success3 = 201\n",
      "success4 = 500\n",
      "success5 = 168\n",
      "success = 869(14658)\n",
      "edge swapping done!\n",
      "time = 0.07019s\n",
      "#v = 5389\n",
      "#t = 28669\n",
      "max_energy = 82.8589\n",
      "avg_energy = 9.698\n",
      "edge collapsing...\n",
      "fixed 0 tangled element\n",
      "success(env) = 13\n",
      "success = 16(61184)\n",
      "success(env) = 0\n",
      "success = 0(3925)\n",
      "edge collapsing done!\n",
      "time = 0.337583s\n",
      "#v = 5373\n",
      "#t = 28581\n",
      "max_energy = 82.8589\n",
      "avg_energy = 9.80022\n",
      "edge swapping...\n",
      "fixed 0 tangled element\n",
      "success3 = 36\n",
      "success4 = 83\n",
      "success5 = 25\n",
      "success = 144(12961)\n",
      "edge swapping done!\n",
      "time = 0.054537s\n",
      "#v = 5373\n",
      "#t = 28570\n",
      "max_energy = 82.8589\n",
      "avg_energy = 9.76213\n",
      "edge collapsing...\n",
      "fixed 0 tangled element\n",
      "success(env) = 2\n",
      "success = 2(60912)\n",
      "success(env) = 0\n",
      "success = 0(415)\n",
      "edge collapsing done!\n",
      "time = 0.32094s\n",
      "#v = 5371\n",
      "#t = 28559\n",
      "max_energy = 82.8589\n",
      "avg_energy = 9.76388\n",
      "edge swapping...\n",
      "fixed 0 tangled element\n",
      "success3 = 1\n",
      "success4 = 2\n",
      "success5 = 2\n",
      "success = 5(12563)\n",
      "edge swapping done!\n",
      "time = 0.051973s\n",
      "#v = 5371\n",
      "#t = 28560\n",
      "max_energy = 82.8589\n",
      "avg_energy = 9.76352\n",
      "[2025-02-17 08:38:57.221] [float-tetwild] [info] mesh optimization 5.08542s\n",
      "[2025-02-17 08:38:57.221] [float-tetwild] [info] \n",
      "[2025-02-17 08:38:57.237] [float-tetwild] [info] correct_tracked_surface_orientation done\n"
     ]
    }
   ],
   "source": [
    "# Create mesh\n",
    "success = tetra.tetrahedralize()\n",
    "print(success)"
   ]
  },
  {
   "cell_type": "code",
   "execution_count": 4,
   "metadata": {},
   "outputs": [
    {
     "name": "stdout",
     "output_type": "stream",
     "text": [
      "[2025-02-17 08:38:57.342] [float-tetwild] [info] after winding number\n",
      "[2025-02-17 08:38:57.342] [float-tetwild] [info] #v = 5371\n",
      "[2025-02-17 08:38:57.342] [float-tetwild] [info] #t = 15099\n",
      "[2025-02-17 08:38:57.342] [float-tetwild] [info] winding number 1.73978e+09s\n",
      "[2025-02-17 08:38:57.342] [float-tetwild] [info] \n"
     ]
    }
   ],
   "source": [
    "point_array, cell_array, marker = tetra.get_tet_mesh()"
   ]
  },
  {
   "cell_type": "code",
   "execution_count": 5,
   "metadata": {},
   "outputs": [
    {
     "data": {
      "text/plain": [
       "array([[-44.29054371, -24.08801509,  -4.01255037],\n",
       "       [-44.25918768, -25.76470236,  -4.15634641],\n",
       "       [-44.26692117, -25.26247254,  -2.94195196],\n",
       "       ...,\n",
       "       [ 26.44556283, -56.011846  ,  10.69396741],\n",
       "       [-21.49479902, -29.96351311,  13.81143336],\n",
       "       [ -7.7784267 , -18.77944804,  14.97208435]])"
      ]
     },
     "execution_count": 5,
     "metadata": {},
     "output_type": "execute_result"
    }
   ],
   "source": [
    "point_array"
   ]
  },
  {
   "cell_type": "code",
   "execution_count": 6,
   "metadata": {},
   "outputs": [
    {
     "data": {
      "text/plain": [
       "array([[3077, 3049, 3115, 3119],\n",
       "       [2961, 2984, 3007, 3064],\n",
       "       [4204, 4248, 4222, 4298],\n",
       "       ...,\n",
       "       [2156, 1908, 2055, 2118],\n",
       "       [ 675,  250,  651,  589],\n",
       "       [4834,  589,  250,  675]], dtype=int32)"
      ]
     },
     "execution_count": 6,
     "metadata": {},
     "output_type": "execute_result"
    }
   ],
   "source": [
    "cell_array"
   ]
  },
  {
   "cell_type": "code",
   "execution_count": 7,
   "metadata": {},
   "outputs": [
    {
     "data": {
      "text/plain": [
       "array([[1.],\n",
       "       [2.],\n",
       "       [1.],\n",
       "       ...,\n",
       "       [1.],\n",
       "       [1.],\n",
       "       [1.]])"
      ]
     },
     "execution_count": 7,
     "metadata": {},
     "output_type": "execute_result"
    }
   ],
   "source": [
    "marker"
   ]
  },
  {
   "cell_type": "code",
   "execution_count": 8,
   "metadata": {},
   "outputs": [
    {
     "data": {
      "text/plain": [
       "array([1., 2.])"
      ]
     },
     "execution_count": 8,
     "metadata": {},
     "output_type": "execute_result"
    }
   ],
   "source": [
    "import numpy as np\n",
    "np.unique(marker)"
   ]
  },
  {
   "cell_type": "code",
   "execution_count": 9,
   "metadata": {},
   "outputs": [],
   "source": [
    "import pyvista\n",
    "import ufl\n",
    "import basix.ufl"
   ]
  },
  {
   "cell_type": "code",
   "execution_count": 10,
   "metadata": {},
   "outputs": [],
   "source": [
    "mesh = dolfinx.mesh.create_mesh(MPI.COMM_WORLD, cell_array, point_array, ufl.Mesh(basix.ufl.element(\"Lagrange\", \"tetrahedron\", 1, shape=(3,))))"
   ]
  },
  {
   "cell_type": "code",
   "execution_count": 11,
   "metadata": {},
   "outputs": [],
   "source": [
    "import pyvista\n",
    "pv_grid = pyvista.UnstructuredGrid(*dolfinx.plot.vtk_mesh(mesh))"
   ]
  },
  {
   "cell_type": "code",
   "execution_count": 12,
   "metadata": {},
   "outputs": [
    {
     "name": "stderr",
     "output_type": "stream",
     "text": [
      "error: XDG_RUNTIME_DIR is invalid or not set in the environment.\n",
      "MESA: error: ZINK: failed to choose pdev\n",
      "glx: failed to create drisw screen\n"
     ]
    },
    {
     "data": {
      "application/vnd.jupyter.widget-view+json": {
       "model_id": "c75d18a447e4440fa22e40928959b509",
       "version_major": 2,
       "version_minor": 0
      },
      "text/plain": [
       "Widget(value='<iframe src=\"http://localhost:35983/index.html?ui=P_0x79777d7df560_0&reconnect=auto\" class=\"pyvi…"
      ]
     },
     "metadata": {},
     "output_type": "display_data"
    }
   ],
   "source": [
    "pyvista.start_xvfb(1.0)\n",
    "pyvista.set_jupyter_backend(\"trame\")\n",
    "pyvista.off_screen=False\n",
    "plotter = pyvista.Plotter()\n",
    "plotter.add_mesh(pv_grid)\n",
    "plotter.show()"
   ]
  },
  {
   "cell_type": "code",
   "execution_count": null,
   "metadata": {},
   "outputs": [],
   "source": []
  }
 ],
 "metadata": {
  "kernelspec": {
   "display_name": "Python 3 (ipykernel)",
   "language": "python",
   "name": "python3"
  },
  "language_info": {
   "codemirror_mode": {
    "name": "ipython",
    "version": 3
   },
   "file_extension": ".py",
   "mimetype": "text/x-python",
   "name": "python",
   "nbconvert_exporter": "python",
   "pygments_lexer": "ipython3",
   "version": "3.12.3"
  }
 },
 "nbformat": 4,
 "nbformat_minor": 4
}

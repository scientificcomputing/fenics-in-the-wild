{
 "cells": [
  {
   "cell_type": "markdown",
   "metadata": {},
   "source": [
    "# Use case 1: Molecular tracer diffusion in a human brain\n",
    "\n",
    "## Introduction\n",
    "\n",
    "In many medical studies, tracers are used to understand how solutes move through the human brain {cite}`rennels1985tracer`, {cite}`zhang1992rat`, {cite}`ni2013amyloid`.\n",
    "They are preferred as one can use medical imaging techniques, such as {term}`PET` and {term}`MRI`, while {term}`CT` uses {term}`X-ray` images to construct a 3D model of an organ.\n",
    "\n",
    "## Mathematical model\n",
    "\n",
    "We start by describing the model of cerebrospinal fluid (CSF), based on {cite}`Causemann2025`.\n",
    "This network consist of two connected regions, namely the ventricular system $\\Omega_V$ and the subarachnoid space $\\Omega_{SAS}$.\n",
    "The subarachnoid space is the space between the membrane of the brain (pia matter) and the membrane towards the skull (dura matter).\n",
    "The ventrical system is a cavity within the brain where cells produce CSF.\n",
    "The CSF enters the brain at the top of the spinal coord. We will call this boundary $\\Gamma_{SSAS}$ (Spinal subarachnoid space).\n",
    "We consider the brain paraenchyma (the brain tissue) as being surrounded by CSF.\n",
    "The interface between the parenchyma and the CSF can be split into two regions, the surface of the lateral ventricles $\\Gamma_{LV}$ and the pial surface $\\Gamma_{pia}$.\n",
    "We consider no fluid flow through the pial surface. However, the ventricles produce fluid, and therefore we consider an influx through $\\Gamma_{LV}$.\n",
    "The CSF is surrounded by dura matter, which is denoted as $\\Gamma_{AM}$. This region is subdivided into an upper ($\\Gamma_{AM-U}$) and lower region ($\\Gamma_{AM-L}$).\n",
    "Fluid can penetrate the the upper region (and exit the system), while no flow occurs through the lower region.\n",
    "Summarizing, we can write the fluid equations as\n",
    "\n",
    "$$\n",
    "\\begin{align}\n",
    "\\mu \\Delta \\mathbf{u} + \\nabla p &= 0 &&\\text{in } \\Omega_{CSF}\\\\\n",
    "\\nabla \\cdot \\mathbf{u} &=0 && \\text{in } \\Omega_{CSF}\\\\\n",
    "\\mathbf{u} &= 0 &&\\text{in } \\Omega_{PAR}\\\\\n",
    "-\\mu \\left((\\nabla \\mathbf{u})\\cdot\\mathbf{n} + p \\mathbf{n}\\right)\\cdot \\mathbf{n}&= R_0(\\mathbf{u}\\cdot \\mathbf{n}) && \\text{on } \\Gamma_{AM-U}\\\\\n",
    "\\mathbf{u} \\cdot \\mathbf{t} &=0 &&\\text{on }\\Gamma_{AM-U}\\\\\n",
    "\\mathbf{u}&= 0 &&\\text{on } \\Gamma_{AM-L}\\cup\\Gamma_{pia}\\cup\\Gamma_{SSAS}\\\\\n",
    "\\mathbf{u}\\cdot \\mathbf{n} &=\\frac{1}{\\vert\\Gamma_{LV}\\vert}u_{in} && \\text{on } \\Gamma_{LV}\\\\\n",
    "\\mathbf{u}\\cdot\\mathbf{t} &= 0 && \\text{on } \\Gamma_{LV}\n",
    "\\end{align}\n",
    "$$\n"
   ]
  },
  {
   "cell_type": "markdown",
   "metadata": {},
   "source": [
    "We solve the set of linear equation with the {term}`FEM` and the following variational form:\n",
    "\n",
    "Find $u\\in H_g^1(\\mathrm{div}, \\Omega_{\\mathrm{CSF}})$, $p\\in L^2(\\Omega_{\\mathrm{CSF}})$ such that\n",
    "\n",
    "$$\n",
    "a(u, p, v, q) = L(v, q) \\quad \\forall v\\in H_0^1(\\mathrm{div}, \\Omega_{\\mathrm{CSF}}), q\\in L^2(\\Omega_{\\mathrm{CSF}})\n",
    "$$\n",
    "\n",
    "where\n",
    "\n",
    "$$\n",
    "\\begin{align*}\n",
    "a(u, p, v, q)&= \\int_{\\Omega_{CSF}} \\mu \\nabla \\mathbf{u} \\cdot \\nabla \\mathbf{v} - \\nabla \\cdot \\mathbf{v} p ~\\mathrm{d}x +  \\int_{\\Gamma_{AM-u}} R_0 \\mathbf{u}\\cdot \\mathbf{n} \\mathbf{n} \\cdot\\mathbf{v} ~\\mathrm{d}s+\\\\\n",
    "&+\\int_{\\mathcal{F}} -\\mu (\\{\\nabla \\mathbf{u}\\}\\cdot\\mathbf{n}_F) \\cdot \\left[\\mathbf{v}_t\\right] -\\mu (\\{\\nabla \\mathbf{v}\\}\\cdot \\mathbf{n}_F) \\cdot \\left[\\mathbf{u}_t\\right] + \\frac{\\sigma \\mu}{h_F}\\left[\\mathbf{u}_t\\right]~\\mathrm{d}s\\\\\n",
    "&+\\int_{\\Omega_{CSF}} \\nabla\\cdot \\mathbf{u}q~\\mathrm{d} x = 0.\n",
    "\\end{align*}\n",
    "$$\n",
    "\n",
    "and\n",
    "\n",
    "$$\n",
    "L(v, q) = 0.\n",
    "$$\n"
   ]
  },
  {
   "cell_type": "markdown",
   "metadata": {},
   "source": [
    "We start by reading in the mesh generated in [Generating brain meshes](../generate_brain_mesh.ipynb).\n"
   ]
  },
  {
   "cell_type": "code",
   "execution_count": null,
   "metadata": {},
   "outputs": [],
   "source": [
    "from mpi4py import MPI\n",
    "import dolfinx\n",
    "from pathlib import Path\n",
    "import os\n",
    "\n",
    "folder = Path(os.environ[\"WILDFENICS_DATA_PATH\"])\n",
    "assert folder.exists(), \"Could not find surface files\"\n",
    "\n",
    "with dolfinx.io.XDMFFile(MPI.COMM_WORLD, folder / \"brain.xdmf\", \"r\") as xdmf:\n",
    "    brain_with_csf = xdmf.read_mesh(dolfinx.cpp.mesh.GhostMode.none)\n",
    "    region_markers = xdmf.read_meshtags(brain_with_csf, name=\"mesh_tags\")"
   ]
  },
  {
   "cell_type": "markdown",
   "metadata": {},
   "source": [
    "We define the following types for looking up information regarding subdomains or surfaces/interfaces where there are boundary conditions\n"
   ]
  },
  {
   "cell_type": "code",
   "execution_count": null,
   "metadata": {},
   "outputs": [],
   "source": [
    "import typing\n",
    "\n",
    "subdomains = typing.Literal[\"SAS\", \"LV\", \"V34\"]\n",
    "interfaces = typing.Literal[\"LV_PAR\", \"V34_PAR\", \"AM_U\", \"AM_L\", \"EXTERNAL\"]"
   ]
  },
  {
   "cell_type": "markdown",
   "metadata": {},
   "source": [
    "The following maps the various regions to an integer marker\n"
   ]
  },
  {
   "cell_type": "code",
   "execution_count": null,
   "metadata": {},
   "outputs": [],
   "source": [
    "subdomain_map = {\n",
    "    \"PAR\": (2,),\n",
    "    \"SAS\": (1,),\n",
    "    \"LV\": (3,),\n",
    "    \"V34\": (4,),\n",
    "}\n",
    "interface_map = {\n",
    "    \"LV_PAR\": 1,\n",
    "    \"V34_PAR\": 2,\n",
    "    \"PAR_SAS\": 5,\n",
    "    \"AM_U\": 3,\n",
    "    \"AM_L\": 4,\n",
    "}"
   ]
  },
  {
   "cell_type": "markdown",
   "metadata": {},
   "source": [
    "The fluid regions can be gathered in a sequence of integers as\n"
   ]
  },
  {
   "cell_type": "code",
   "execution_count": null,
   "metadata": {},
   "outputs": [],
   "source": [
    "fluid_domains = subdomain_map[\"LV\"] + subdomain_map[\"SAS\"] + subdomain_map[\"V34\"]\n"
   ]
  },
  {
   "cell_type": "markdown",
   "metadata": {},
   "source": [
    "We will refine all cells (tetrahedra) whose facet is considered external, i.e. it does not connect to another fluid cell. We create the following convenience function to locate these cells.\n"
   ]
  },
  {
   "cell_type": "code",
   "execution_count": null,
   "metadata": {},
   "outputs": [],
   "source": [
    "import scifem\n",
    "import numpy as np\n",
    "\n",
    "\n",
    "def compute_subdomain_exterior_cells(\n",
    "    mesh: dolfinx.mesh.Mesh, ct: dolfinx.mesh.MeshTags, markers: tuple[int, ...]\n",
    "):\n",
    "    \"\"\"Compute the exterior boundary of a set of subdomains.\n",
    "\n",
    "    Args:\n",
    "        mesh: Mesh to extract subdomains from\n",
    "        ct: MeshTags object marking subdomains\n",
    "        markers: The tags making up the \"new\" mesh\n",
    "    Returns:\n",
    "        Cells which has a facet on the exterior boundary of the subdomains.\n",
    "    \"\"\"\n",
    "    # Find facets that are considered exterior\n",
    "    subdomain_exterior_facets = scifem.mesh.compute_subdomain_exterior_facets(\n",
    "        mesh, ct, markers\n",
    "    )\n",
    "    tdim = mesh.topology.dim\n",
    "    assert ct.dim == tdim\n",
    "    sub_cells = dolfinx.mesh.compute_incident_entities(\n",
    "        mesh.topology,\n",
    "        subdomain_exterior_facets,\n",
    "        tdim - 1,\n",
    "        tdim,\n",
    "    )\n",
    "    full_subdomain = ct.indices[\n",
    "        np.isin(ct.values, np.asarray(markers, dtype=ct.values.dtype))\n",
    "    ]\n",
    "    cell_map = mesh.topology.index_map(tdim)\n",
    "    return scifem.mesh.reverse_mark_entities(\n",
    "        cell_map, np.intersect1d(full_subdomain, sub_cells)\n",
    "    )\n"
   ]
  },
  {
   "cell_type": "markdown",
   "metadata": {},
   "source": [
    "With this function at hand, we can locally refine our mesh.\n"
   ]
  },
  {
   "cell_type": "code",
   "execution_count": null,
   "metadata": {},
   "outputs": [],
   "source": [
    "# Refine parent mesh within ventricles\n",
    "num_refinements = 2\n",
    "if num_refinements == 0:\n",
    "    refined_mesh = brain_with_csf\n",
    "    refined_regions = region_markers\n",
    "    num_cells = brain_with_csf.topology.index_map(3).size_global\n",
    "    print(f\"Mesh, #Cells={num_cells}\")\n",
    "for i in range(num_refinements):\n",
    "    # Refine parent mesh within ventricles\n",
    "    refine_cells = region_markers.indices[\n",
    "        np.isin(\n",
    "            region_markers.values,\n",
    "            np.asarray(subdomain_map[\"V34\"] + subdomain_map[\"LV\"]),\n",
    "        )\n",
    "    ]\n",
    "\n",
    "    # Find all cells associated with outer boundary (dura) and refine the cells they correspond to\n",
    "    brain_with_csf.topology.create_connectivity(\n",
    "        brain_with_csf.topology.dim - 1, brain_with_csf.topology.dim\n",
    "    )\n",
    "    fmap = brain_with_csf.topology.index_map(brain_with_csf.topology.dim - 1)\n",
    "    exterior_facet_indices = scifem.mesh.reverse_mark_entities(\n",
    "        fmap, dolfinx.mesh.exterior_facet_indices(brain_with_csf.topology)\n",
    "    )\n",
    "    boundary_cells = dolfinx.mesh.compute_incident_entities(\n",
    "        brain_with_csf.topology,\n",
    "        exterior_facet_indices,\n",
    "        brain_with_csf.topology.dim - 1,\n",
    "        brain_with_csf.topology.dim,\n",
    "    )\n",
    "\n",
    "    fluid_boundary_cells = compute_subdomain_exterior_cells(\n",
    "        brain_with_csf, region_markers, fluid_domains\n",
    "    )\n",
    "\n",
    "    # For any further refinement, only refine the boundary of the fluid domains, not the interior\n",
    "    if i < 1:\n",
    "        cells_to_refine = np.unique(\n",
    "            np.hstack([boundary_cells, fluid_boundary_cells, refine_cells])\n",
    "        ).astype(np.int32)\n",
    "\n",
    "    else:\n",
    "        cells_to_refine = refine_cells\n",
    "\n",
    "    edges_to_refine = dolfinx.mesh.compute_incident_entities(\n",
    "        brain_with_csf.topology, cells_to_refine, brain_with_csf.topology.dim, 1\n",
    "    )\n",
    "    edge_map = brain_with_csf.topology.index_map(1)\n",
    "    edges_to_refine = scifem.mesh.reverse_mark_entities(edge_map, edges_to_refine)\n",
    "    refined_mesh, parent_cell, _ = dolfinx.mesh.refine(\n",
    "        brain_with_csf,\n",
    "        edges_to_refine,\n",
    "        partitioner=None,\n",
    "        option=dolfinx.mesh.RefinementOption.parent_cell,\n",
    "    )\n",
    "    refined_regions = dolfinx.mesh.transfer_meshtag(\n",
    "        region_markers, refined_mesh, parent_cell\n",
    "    )\n",
    "    brain_with_csf = refined_mesh\n",
    "    region_markers = refined_regions\n",
    "    num_cells = brain_with_csf.topology.index_map(3).size_global\n",
    "    print(f\"Mesh refinement {i + 1}, #Cells={num_cells}\")"
   ]
  },
  {
   "cell_type": "markdown",
   "metadata": {},
   "source": [
    "We need to ensure that the mesh is sufficiently fine to run fluid simulations on. We ensure this by using local refinement of the ventricular system and the regions of the CSF space that is either close to the brain parenchyma or the dura matter.\n"
   ]
  },
  {
   "cell_type": "markdown",
   "metadata": {},
   "source": [
    "## References\n",
    "\n",
    "```{bibliography}\n",
    ":filter: docname in docnames\n",
    "```\n"
   ]
  },
  {
   "cell_type": "code",
   "execution_count": null,
   "metadata": {},
   "outputs": [],
   "source": []
  }
 ],
 "metadata": {
  "kernelspec": {
   "display_name": "Python 3 (ipykernel)",
   "language": "python",
   "name": "python3"
  },
  "language_info": {
   "codemirror_mode": {
    "name": "ipython",
    "version": 3
   },
   "file_extension": ".py",
   "mimetype": "text/x-python",
   "name": "python",
   "nbconvert_exporter": "python",
   "pygments_lexer": "ipython3",
   "version": "3.12.3"
  }
 },
 "nbformat": 4,
 "nbformat_minor": 4
}

{
 "cells": [
  {
   "cell_type": "markdown",
   "metadata": {},
   "source": [
    "# Use case 1: Molecular tracer diffusion in a human brain\n",
    "\n",
    "## Introduction\n",
    "\n",
    "In many medical studies, tracers are used to understand how solutes move through the human brain {cite}`rennels1985tracer`, {cite}`zhang1992rat`, {cite}`ni2013amyloid`.\n",
    "They are preferred as one can use medical imaging techniques, such as {term}`PET` and {term}`MRI`, while {term}`CT` uses {term}`X-ray` images to construct a 3D model of an organ.\n",
    "\n",
    "## Mathematical model\n",
    "\n",
    "We start by describing the model of cerebrospinal fluid (CSF), based on {cite}`Causemann2025`.\n",
    "This network consist of two connected regions, namely the ventricular system $\\Omega_V$ and the subarachnoid space $\\Omega_{SAS}$.\n",
    "The subarachnoid space is the space between the membrane of the brain (pia matter) and the membrane towards the skull (dura matter).\n",
    "The ventrical system is a cavity within the brain where cells produce CSF.\n",
    "The CSF enters the brain at the top of the spinal coord. We will call this boundary $\\Gamma_{SSAS}$ (Spinal subarachnoid space).\n",
    "We consider the brain paraenchyma (the brain tissue) as being surrounded by CSF.\n",
    "The interface between the parenchyma and the CSF can be split into two regions, the surface of the lateral ventricles $\\Gamma_{LV}$ and the pial surface $\\Gamma_{pia}$.\n",
    "We consider no fluid flow through the pial surface. However, the ventricles produce fluid, and therefore we consider an influx through $\\Gamma_{LV}$.\n",
    "The CSF is surrounded by dura matter, which is denoted as $\\Gamma_{AM}$. This region is subdivided into an upper ($\\Gamma_{AM-U}$) and lower region ($\\Gamma_{AM-L}$).\n",
    "Fluid can penetrate the the upper region (and exit the system), while no flow occurs through the lower region.\n",
    "Summarizing, we can write the fluid equations as\n",
    "\n",
    "$$\n",
    "\\begin{align}\n",
    "\\mu \\Delta \\mathbf{u} + \\nabla p &= 0 &&\\text{in } \\Omega_{CSF}\\\\\n",
    "\\nabla \\cdot \\mathbf{u} &=0 && \\text{in } \\Omega_{CSF}\\\\\n",
    "\\mathbf{u} &= 0 &&\\text{in } \\Omega_{PAR}\\\\\n",
    "-\\mu \\left((\\nabla \\mathbf{u})\\cdot\\mathbf{n} + p \\mathbf{n}\\right)\\cdot \\mathbf{n}&= R_0(\\mathbf{u}\\cdot \\mathbf{n}) && \\text{on } \\Gamma_{AM-U}\\\\\n",
    "\\mathbf{u} \\cdot \\mathbf{t} &=0 &&\\text{on }\\Gamma_{AM-U}\\\\\n",
    "\\mathbf{u}&= 0 &&\\text{on } \\Gamma_{AM-L}\\cup\\Gamma_{pia}\\cup\\Gamma_{SSAS}\\\\\n",
    "\\mathbf{u}\\cdot \\mathbf{n} &=\\frac{1}{\\vert\\Gamma_{LV}\\vert}u_{in} && \\text{on } \\Gamma_{LV}\\\\\n",
    "\\mathbf{u}\\cdot\\mathbf{t} &= 0 && \\text{on } \\Gamma_{LV}\n",
    "\\end{align}\n",
    "$$\n"
   ]
  },
  {
   "cell_type": "markdown",
   "metadata": {},
   "source": [
    "We solve the set of linear equation with the {term}`FEM` and the following variational form:\n",
    "\n",
    "Find $u\\in H_g^1(\\mathrm{div}, \\Omega_{\\mathrm{CSF}})$, $p\\in L^2(\\Omega_{\\mathrm{CSF}})$ such that\n",
    "\n",
    "$$\n",
    "a(u, p, v, q) = L(v, q) \\quad \\forall v\\in H_0^1(\\mathrm{div}, \\Omega_{\\mathrm{CSF}}), q\\in L^2(\\Omega_{\\mathrm{CSF}})\n",
    "$$\n",
    "\n",
    "where\n",
    "\n",
    "$$\n",
    "\\begin{align*}\n",
    "a(u, p, v, q)&= \\int_{\\Omega_{CSF}} \\mu \\nabla \\mathbf{u} \\cdot \\nabla \\mathbf{v} - \\nabla \\cdot \\mathbf{v} p ~\\mathrm{d}x +  \\int_{\\Gamma_{AM-u}} R_0 \\mathbf{u}\\cdot \\mathbf{n} \\mathbf{n} \\cdot\\mathbf{v} ~\\mathrm{d}s+\\\\\n",
    "&+\\int_{\\mathcal{F}} -\\mu (\\{\\nabla \\mathbf{u}\\}\\cdot\\mathbf{n}_F) \\cdot \\left[\\mathbf{v}_t\\right] -\\mu (\\{\\nabla \\mathbf{v}\\}\\cdot \\mathbf{n}_F) \\cdot \\left[\\mathbf{u}_t\\right] + \\frac{\\sigma \\mu}{h_F}\\left[\\mathbf{u}_t\\right]~\\mathrm{d}s\\\\\n",
    "&+\\int_{\\Omega_{CSF}} \\nabla\\cdot \\mathbf{u}q~\\mathrm{d} x = 0.\n",
    "\\end{align*}\n",
    "$$\n",
    "\n",
    "and\n",
    "\n",
    "$$\n",
    "L(v, q) = 0.\n",
    "$$\n"
   ]
  },
  {
   "cell_type": "markdown",
   "metadata": {},
   "source": [
    "## Reading in the mesh and creating submeshes\n",
    "\n",
    "We start by reading in the mesh generated in [Generating brain meshes](../generate_brain_mesh.ipynb).\n",
    "The refined mesh requires 80 GB RAM for running this demo, while the un-refined mesh requires around 25 GB RAM.\n"
   ]
  },
  {
   "cell_type": "code",
   "execution_count": null,
   "metadata": {},
   "outputs": [],
   "source": [
    "from mpi4py import MPI\n",
    "import dolfinx\n",
    "from pathlib import Path\n",
    "import os\n",
    "\n",
    "use_refined_mesh = True\n",
    "if use_refined_mesh:\n",
    "    mesh_file = \"refined_marked_brain.xdmf\"\n",
    "else:\n",
    "    mesh_file = \"marked_brain.xdmf\"\n",
    "folder = Path(os.environ[\"WILDFENICS_DATA_PATH\"])\n",
    "assert folder.exists(), \"Could not find surface files\"\n",
    "with dolfinx.io.XDMFFile(MPI.COMM_WORLD, folder / mesh_file, \"r\") as xdmf:\n",
    "    brain_with_csf = xdmf.read_mesh(dolfinx.cpp.mesh.GhostMode.none)\n",
    "    region_markers = xdmf.read_meshtags(brain_with_csf, name=\"mesh_tags\")\n",
    "    brain_with_csf.topology.create_connectivity(\n",
    "        brain_with_csf.topology.dim, brain_with_csf.topology.dim - 1\n",
    "    )\n",
    "    interface_markers = xdmf.read_meshtags(\n",
    "        brain_with_csf, name=\"interfaces_and_boundaries\"\n",
    "    )"
   ]
  },
  {
   "cell_type": "markdown",
   "metadata": {},
   "source": [
    "We define the same maps for easy look-up of the various marked regions.\n"
   ]
  },
  {
   "cell_type": "code",
   "execution_count": null,
   "metadata": {},
   "outputs": [],
   "source": [
    "subdomain_map = {\n",
    "    \"PAR\": (2,),\n",
    "    \"SAS\": (1,),\n",
    "    \"LV\": (3,),\n",
    "    \"V34\": (4,),\n",
    "}\n",
    "interface_map = {\n",
    "    \"LV_PAR\": 1,\n",
    "    \"V34_PAR\": 2,\n",
    "    \"PAR_SAS\": 5,\n",
    "    \"AM_U\": 3,\n",
    "    \"AM_L\": 4,\n",
    "}"
   ]
  },
  {
   "cell_type": "markdown",
   "metadata": {},
   "source": [
    "As we would only like to simulate the fluid flow in the ventricles and SAS, and not through the brain parenchyma, we extract these cells into a new mesh.\n",
    "We also transfer the interface markers.\n"
   ]
  },
  {
   "cell_type": "code",
   "execution_count": null,
   "metadata": {},
   "outputs": [],
   "source": [
    "import scifem\n",
    "\n",
    "fluid_domains = subdomain_map[\"LV\"] + subdomain_map[\"SAS\"] + subdomain_map[\"V34\"]\n",
    "\n",
    "csf_mesh, cell_map, vertex_map, node_map, csf_markers = scifem.mesh.extract_submesh(\n",
    "    brain_with_csf,\n",
    "    region_markers,\n",
    "    fluid_domains,\n",
    ")\n",
    "fluid_interface_marker, _ = scifem.transfer_meshtags_to_submesh(\n",
    "    interface_markers, csf_mesh, vertex_map, cell_map\n",
    ")\n",
    "del region_markers, interface_markers"
   ]
  },
  {
   "cell_type": "markdown",
   "metadata": {},
   "source": [
    "## Defining the variational formulation\n",
    "\n",
    "Next, we create the mixed function space, using \"BDM\"-1 and \"DG\"-0 as the stable finite element pair as illustrated in {cite}`Hong2016`:\n"
   ]
  },
  {
   "cell_type": "code",
   "execution_count": null,
   "metadata": {},
   "outputs": [],
   "source": [
    "import basix.ufl\n",
    "import ufl\n",
    "import numpy as np\n",
    "\n",
    "degree = 1\n",
    "element_u = basix.ufl.element(basix.ElementFamily.BDM, csf_mesh.basix_cell(), degree)\n",
    "element_p = basix.ufl.element(\n",
    "    basix.ElementFamily.P,\n",
    "    csf_mesh.basix_cell(),\n",
    "    degree=degree - 1,\n",
    "    discontinuous=True,\n",
    ")\n",
    "me = basix.ufl.mixed_element([element_u, element_p])\n",
    "W = dolfinx.fem.functionspace(csf_mesh, me)"
   ]
  },
  {
   "cell_type": "markdown",
   "metadata": {},
   "source": [
    "Next, we define the integration measures we will use in the variational formulation\n"
   ]
  },
  {
   "cell_type": "code",
   "execution_count": null,
   "metadata": {},
   "outputs": [],
   "source": [
    "dx = ufl.dx(domain=csf_mesh, subdomain_data=csf_markers)  # All fluid cells\n",
    "ds = ufl.ds(\n",
    "    domain=csf_mesh, subdomain_data=fluid_interface_marker\n",
    ")  # All exterior facets\n",
    "dAM_U = ds(interface_map[\"AM_U\"])  # Upper skull\n",
    "dWall = ds(\n",
    "    (\n",
    "        interface_map[\"V34_PAR\"],\n",
    "        interface_map[\"PAR_SAS\"],\n",
    "        interface_map[\"AM_L\"],\n",
    "        interface_map[\"LV_PAR\"],\n",
    "    )  # Remaining exterior faces\n",
    ")\n",
    "dS = ufl.dS(domain=csf_mesh)  # All interior facets"
   ]
  },
  {
   "cell_type": "markdown",
   "metadata": {},
   "source": [
    "Next, we define some of the problem specific parameters\n"
   ]
  },
  {
   "cell_type": "code",
   "execution_count": null,
   "metadata": {},
   "outputs": [],
   "source": [
    "mu = dolfinx.fem.Constant(csf_mesh, dolfinx.default_scalar_type(7e-3))\n",
    "R = dolfinx.fem.Constant(csf_mesh, dolfinx.default_scalar_type(1e4))\n",
    "sigma = dolfinx.fem.Constant(csf_mesh, dolfinx.default_scalar_type(100.0))\n",
    "U_in = dolfinx.fem.Constant(csf_mesh, dolfinx.default_scalar_type(4.63e-7))"
   ]
  },
  {
   "cell_type": "markdown",
   "metadata": {},
   "source": [
    "The tangential projection operator is defined as\n"
   ]
  },
  {
   "cell_type": "code",
   "execution_count": null,
   "metadata": {},
   "outputs": [],
   "source": [
    "def tangent_projection(u, n):\n",
    "    return u - ufl.dot(u, n) * n"
   ]
  },
  {
   "cell_type": "markdown",
   "metadata": {},
   "source": [
    "giving us the intermediate variables\n"
   ]
  },
  {
   "cell_type": "code",
   "execution_count": null,
   "metadata": {},
   "outputs": [],
   "source": [
    "n = ufl.FacetNormal(csf_mesh)\n",
    "u, p = ufl.TrialFunctions(W)\n",
    "v, q = ufl.TestFunctions(W)\n",
    "u_t = tangent_projection(u, n)\n",
    "v_t = tangent_projection(v, n)"
   ]
  },
  {
   "cell_type": "markdown",
   "metadata": {},
   "source": [
    "which yields the following variational form\n"
   ]
  },
  {
   "cell_type": "code",
   "execution_count": null,
   "metadata": {},
   "outputs": [],
   "source": [
    "a = mu * ufl.inner(ufl.grad(u), ufl.grad(v)) * dx - ufl.div(v) * p * dx\n",
    "a += -ufl.div(u) * q * dx\n",
    "a += R * ufl.dot(u, n) * ufl.dot(v, n) * dAM_U\n",
    "hF = ufl.FacetArea(csf_mesh)\n",
    "hA = ufl.avg(2.0 * ufl.Circumradius(csf_mesh))\n",
    "# Wall condition (slip condition)\n",
    "a += (\n",
    "    -ufl.inner(ufl.dot(mu * ufl.grad(v), n), u_t) * dWall\n",
    "    - ufl.inner(ufl.dot(mu * ufl.grad(u), n), v_t) * dWall\n",
    "    + 2 * mu * sigma / hF * ufl.inner(u_t, v_t) * dWall\n",
    ")\n",
    "# Weak enforcement of tangential continuity\n",
    "a += (\n",
    "    -ufl.inner(\n",
    "        ufl.dot(ufl.avg(mu * ufl.grad(u)), n(\"+\")),\n",
    "        ufl.jump(v_t),\n",
    "    )\n",
    "    - ufl.inner(\n",
    "        ufl.dot(ufl.avg(mu * ufl.grad(v)), n(\"+\")),\n",
    "        ufl.jump(u_t),\n",
    "    )\n",
    "    + 2 * mu * (sigma / hA) * ufl.inner(ufl.jump(u_t), ufl.jump(v_t))\n",
    ") * dS\n",
    "\n",
    "# Zero right-hand side\n",
    "f = dolfinx.fem.Constant(\n",
    "    csf_mesh, dolfinx.default_scalar_type(np.zeros(csf_mesh.geometry.dim))\n",
    ")\n",
    "L = ufl.inner(f, v) * dx"
   ]
  },
  {
   "cell_type": "markdown",
   "metadata": {},
   "source": [
    "## Defining strong boundary conditions\n",
    "\n",
    "In the formulation, we have that $\\mathbf{u}\\cdot\\mathbf{n} = \\frac{1}{\\vert\\Gamma_{LV}\\vert}u_{in}$.\n",
    "As we are using BDM-spaces to enforce this, we require some special handling:\n"
   ]
  },
  {
   "cell_type": "code",
   "execution_count": null,
   "metadata": {},
   "outputs": [],
   "source": [
    "from packaging.version import Version\n",
    "import numpy.typing as npt\n",
    "\n",
    "\n",
    "def strong_bc_bdm_function(\n",
    "    Q: dolfinx.fem.FunctionSpace,\n",
    "    expr: ufl.core.expr.Expr,\n",
    "    facets: npt.NDArray[np.int32],\n",
    ") -> dolfinx.fem.Function:\n",
    "    \"\"\"\n",
    "    Create a function $u_h\\in Q$ such that $u_h=\\text{expr}$ for all dofs belonging to a subset of ``facets``.\n",
    "    All other dofs are set to zero.\n",
    "\n",
    "    Args:\n",
    "        Q: The function space to create the function $u_h$ in.\n",
    "        expr: The expression to evaluate.\n",
    "        facets: The facets on which to evaluate the expression.\n",
    "    \"\"\"\n",
    "    domain = Q.mesh\n",
    "    Q_el = Q.element\n",
    "    domain.topology.create_connectivity(domain.topology.dim - 1, domain.topology.dim)\n",
    "    # Compute integration entities (cell, local_facet index) for all facets\n",
    "    if Version(dolfinx.__version__) > Version(\"0.9.0\"):\n",
    "        boundary_entities = dolfinx.fem.compute_integration_domains(\n",
    "            dolfinx.fem.IntegralType.exterior_facet, domain.topology, facets\n",
    "        )\n",
    "    else:\n",
    "        boundary_entities = dolfinx.fem.compute_integration_domains(\n",
    "            dolfinx.fem.IntegralType.exterior_facet,\n",
    "            domain.topology,\n",
    "            facets,\n",
    "            domain.topology.dim - 1,\n",
    "        )\n",
    "\n",
    "    interpolation_points = Q_el.basix_element.x\n",
    "    fdim = domain.topology.dim - 1\n",
    "\n",
    "    c_el = domain.ufl_domain().ufl_coordinate_element()\n",
    "    ref_top = c_el.reference_topology\n",
    "    ref_geom = c_el.reference_geometry\n",
    "    facet_types = set(\n",
    "        basix.cell.subentity_types(domain.basix_cell())[domain.topology.dim - 1]\n",
    "    )\n",
    "    assert len(facet_types) == 1, \"All facets must have the same topology\"\n",
    "\n",
    "    # Pull back interpolation points from reference coordinate element to facet reference element\n",
    "    facet_cmap = basix.ufl.element(\n",
    "        \"Lagrange\",\n",
    "        facet_types.pop(),\n",
    "        c_el.degree,\n",
    "        shape=(domain.geometry.dim,),\n",
    "        dtype=np.float64,\n",
    "    )\n",
    "    facet_cel = dolfinx.cpp.fem.CoordinateElement_float64(facet_cmap.basix_element._e)\n",
    "    reference_facet_points = None\n",
    "    for i, points in enumerate(interpolation_points[fdim]):\n",
    "        geom = ref_geom[ref_top[fdim][i]]\n",
    "        ref_points = facet_cel.pull_back(points, geom)\n",
    "        # Assert that interpolation points are all equal on all facets\n",
    "        if reference_facet_points is None:\n",
    "            reference_facet_points = ref_points\n",
    "        else:\n",
    "            assert np.allclose(reference_facet_points, ref_points)\n",
    "    # Create expression for BC\n",
    "    normal_expr = dolfinx.fem.Expression(expr, reference_facet_points)\n",
    "\n",
    "    points_per_entity = [sum(ip.shape[0] for ip in ips) for ips in interpolation_points]\n",
    "    offsets = np.zeros(domain.topology.dim + 2, dtype=np.int32)\n",
    "    offsets[1:] = np.cumsum(points_per_entity[: domain.topology.dim + 1])\n",
    "    values_per_entity = np.zeros(\n",
    "        (offsets[-1], domain.geometry.dim), dtype=dolfinx.default_scalar_type\n",
    "    )\n",
    "    entities = boundary_entities.reshape(-1, 2)\n",
    "    values = np.zeros(entities.shape[0] * offsets[-1] * domain.geometry.dim)\n",
    "    for i, entity in enumerate(entities):\n",
    "        insert_pos = offsets[fdim] + reference_facet_points.shape[0] * entity[1]\n",
    "        # Backwards compatibility\n",
    "        try:\n",
    "            normal_on_facet = normal_expr.eval(domain, entity.reshape(1, 2))\n",
    "        except (AttributeError, AssertionError):\n",
    "            normal_on_facet = normal_expr.eval(domain, entity)\n",
    "\n",
    "        # NOTE: evaluate within loop to avoid large memory requirements\n",
    "        values_per_entity[insert_pos : insert_pos + reference_facet_points.shape[0]] = (\n",
    "            normal_on_facet.reshape(-1, domain.geometry.dim)\n",
    "        )\n",
    "        values[\n",
    "            i * offsets[-1] * domain.geometry.dim : (i + 1)\n",
    "            * offsets[-1]\n",
    "            * domain.geometry.dim\n",
    "        ] = values_per_entity.reshape(-1)\n",
    "    qh = dolfinx.fem.Function(Q)\n",
    "    qh._cpp_object.interpolate(\n",
    "        values.reshape(-1, domain.geometry.dim).T.copy(), boundary_entities[::2].copy()\n",
    "    )\n",
    "    qh.x.scatter_forward()\n",
    "\n",
    "    return qh"
   ]
  },
  {
   "cell_type": "markdown",
   "metadata": {},
   "source": [
    "With this function in hand, we can define the Dirichlet condition.\n",
    "We first compute the area $\\Gamma_{LV}$:\n"
   ]
  },
  {
   "cell_type": "code",
   "execution_count": null,
   "metadata": {},
   "outputs": [],
   "source": [
    "surface_area_form = 1 * ds(interface_map[\"LV_PAR\"])\n",
    "surface_area_value = scifem.assemble_scalar(surface_area_form)\n",
    "gamma_LV = dolfinx.fem.Constant(csf_mesh, surface_area_value)"
   ]
  },
  {
   "cell_type": "markdown",
   "metadata": {},
   "source": [
    "Next, we create the symbolic expression to enforce\n"
   ]
  },
  {
   "cell_type": "code",
   "execution_count": null,
   "metadata": {},
   "outputs": [],
   "source": [
    "inlet_expr = -U_in / gamma_LV * n"
   ]
  },
  {
   "cell_type": "markdown",
   "metadata": {},
   "source": [
    "We find the facets on the interface of the left ventricle\n"
   ]
  },
  {
   "cell_type": "code",
   "execution_count": null,
   "metadata": {},
   "outputs": [],
   "source": [
    "LV_facets = fluid_interface_marker.indices[\n",
    "    np.isin(fluid_interface_marker.values, interface_map[\"LV_PAR\"])\n",
    "]"
   ]
  },
  {
   "cell_type": "markdown",
   "metadata": {},
   "source": [
    "and finally create the Dirichlet boundary condition\n"
   ]
  },
  {
   "cell_type": "code",
   "execution_count": null,
   "metadata": {},
   "outputs": [],
   "source": [
    "V, _ = W.sub(0).collapse()\n",
    "u_bc = strong_bc_bdm_function(\n",
    "    V,\n",
    "    inlet_expr,\n",
    "    LV_facets,\n",
    ")\n",
    "LV_dofs = dolfinx.fem.locate_dofs_topological(\n",
    "    (W.sub(0), V), fluid_interface_marker.dim, LV_facets\n",
    ")\n",
    "bc_LV = dolfinx.fem.dirichletbc(u_bc, LV_dofs, W.sub(0))"
   ]
  },
  {
   "cell_type": "markdown",
   "metadata": {},
   "source": [
    "We additionally create the slip conditions at the remaining walls, where $\\mathbf{u}\\cdot \\mathbf{n} = 0$\n"
   ]
  },
  {
   "cell_type": "code",
   "execution_count": null,
   "metadata": {},
   "outputs": [],
   "source": [
    "u_wall = dolfinx.fem.Function(V)\n",
    "u_wall.x.array[:] = 0.0\n",
    "wall_facets = fluid_interface_marker.indices[\n",
    "    np.isin(\n",
    "        fluid_interface_marker.values,\n",
    "        [interface_map[\"V34_PAR\"], interface_map[\"PAR_SAS\"], interface_map[\"AM_L\"]],\n",
    "    )\n",
    "]\n",
    "wall_dofs = dolfinx.fem.locate_dofs_topological(\n",
    "    (W.sub(0), V), fluid_interface_marker.dim, wall_facets\n",
    ")\n",
    "bc_wall = dolfinx.fem.dirichletbc(u_wall, wall_dofs, W.sub(0))\n",
    "bcs = [bc_LV, bc_wall]"
   ]
  },
  {
   "cell_type": "markdown",
   "metadata": {},
   "source": [
    "# Solving the linear variational problem\n",
    "\n",
    "We use [PETSc](https://petsc.org/release/manualpages/Mat/MATSOLVERMUMPS/) and MUMPS {cite}`mumps2001` to solve the arising linear system. We turn on several optimizations to speed up the assembly process.\n"
   ]
  },
  {
   "cell_type": "code",
   "execution_count": null,
   "metadata": {},
   "outputs": [],
   "source": [
    "jit_options = {\n",
    "    \"cffi_extra_compile_args\": [\"-Ofast\", \"-march=native\"],\n",
    "    \"cffi_libraries\": [\"m\"],\n",
    "}\n",
    "petsc_options = {\n",
    "    \"ksp_type\": \"preonly\",\n",
    "    \"pc_type\": \"lu\",\n",
    "    \"ksp_error_if_not_converged\": True,\n",
    "    \"pc_factor_mat_solver_type\": \"mumps\",\n",
    "    \"mat_mumps_icntl_14\": 250,\n",
    "    \"mat_mumps_icntl_24\": 1,\n",
    "    \"mat_mumps_icntl_4\": 2,\n",
    "}\n",
    "wh = dolfinx.fem.Function(W)\n",
    "problem = dolfinx.fem.petsc.LinearProblem(\n",
    "    a, L, u=wh, bcs=bcs, petsc_options=petsc_options, jit_options=jit_options\n",
    ")"
   ]
  },
  {
   "cell_type": "markdown",
   "metadata": {},
   "source": [
    "We only solve the problem if we have sufficient amount of RAM on our system.\n"
   ]
  },
  {
   "cell_type": "code",
   "execution_count": null,
   "metadata": {},
   "outputs": [],
   "source": [
    "import psutil\n",
    "\n",
    "if use_refined_mesh:\n",
    "    min_remaining_ram_required = 20 * 10**9\n",
    "else:\n",
    "    min_remaining_ram_required = 80 * 10**9\n",
    "memory_stats = psutil.virtual_memory()\n",
    "if memory_stats.available > min_remaining_ram_required:\n",
    "    wh = problem.solve()\n",
    "else:\n",
    "    # Implement a checkpoint here\n",
    "    pass"
   ]
  },
  {
   "cell_type": "markdown",
   "metadata": {},
   "source": [
    "As we would like to use the solution on the parent mesh, that includes the brain parenchyma, we transfer the solution to this domain, and store it as a \"checkpoint\" that\n",
    "can be read in alongside the mesh from the input file.\n"
   ]
  },
  {
   "cell_type": "code",
   "execution_count": null,
   "metadata": {},
   "outputs": [],
   "source": [
    "import adios4dolfinx\n",
    "\n",
    "u_in_fluid = wh.sub(0).collapse()\n",
    "V_full = dolfinx.fem.functionspace(brain_with_csf, element_u)\n",
    "function_filename = Path(os.environ[\"WILDFENICS_DATA_PATH\"]) / \"velocity_checkpoint.bp\"\n",
    "\n",
    "# To transfer the solution to the parent, we use interpolation between the parent and child mesh\n",
    "u_full = dolfinx.fem.Function(V_full, name=\"u\")\n",
    "child_cells = np.arange(len(cell_map), dtype=np.int32)\n",
    "u_full.interpolate(u_in_fluid, cells0=child_cells, cells1=cell_map)\n",
    "adios4dolfinx.write_function_on_input_mesh(\n",
    "    function_filename.with_suffix(\".bp\"),\n",
    "    u_full,\n",
    "    mode=adios4dolfinx.adios2_helpers.adios2.Mode.Write,\n",
    "    time=0.0,\n",
    ")"
   ]
  },
  {
   "cell_type": "markdown",
   "metadata": {},
   "source": [
    "To visualize the solution, we transfer the velocity to a compatible discontinuous Lagrange space\n"
   ]
  },
  {
   "cell_type": "code",
   "execution_count": null,
   "metadata": {},
   "outputs": [],
   "source": [
    "# For visualization of fluid flow within fluid cavities\n",
    "V_out = dolfinx.fem.functionspace(\n",
    "    brain_with_csf, (\"DG\", degree, (csf_mesh.geometry.dim,))\n",
    ")\n",
    "u_out = dolfinx.fem.Function(V_out, name=\"Velocity\")\n",
    "u_out.interpolate(u_full)\n",
    "with dolfinx.io.VTXWriter(csf_mesh.comm, \"uh.bp\", [u_out], engine=\"BP4\") as bp:\n",
    "    bp.write(0.0)"
   ]
  },
  {
   "cell_type": "markdown",
   "metadata": {},
   "source": [
    "## References\n",
    "\n",
    "```{bibliography}\n",
    ":filter: docname in docnames\n",
    "```\n"
   ]
  },
  {
   "cell_type": "code",
   "execution_count": null,
   "metadata": {},
   "outputs": [],
   "source": []
  }
 ],
 "metadata": {
  "kernelspec": {
   "display_name": "Python 3 (ipykernel)",
   "language": "python",
   "name": "python3"
  },
  "language_info": {
   "codemirror_mode": {
    "name": "ipython",
    "version": 3
   },
   "file_extension": ".py",
   "mimetype": "text/x-python",
   "name": "python",
   "nbconvert_exporter": "python",
   "pygments_lexer": "ipython3",
   "version": "3.12.3"
  }
 },
 "nbformat": 4,
 "nbformat_minor": 4
}

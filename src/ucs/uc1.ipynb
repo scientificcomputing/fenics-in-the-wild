{
 "cells": [
  {
   "cell_type": "markdown",
   "metadata": {},
   "source": [
    "# Use case 1: Molecular tracer diffusion in a human brain\n",
    "\n",
    "## Introduction\n",
    "\n",
    "In many medical studies, tracers are used to understand how solutes move through the human brain {cite}`rennels1985tracer`, {cite}`zhang1992rat`, {cite}`ni2013amyloid`.\n",
    "They are preferred as one can use medical imaging techniques, such as {term}`PET` and {term}`MRI`, while {term}`CT` uses {term}`X-ray` images to construct a 3D model of an organ.\n",
    "\n",
    "## Mathematical model\n",
    "\n",
    "We start by describing the model of cerebrospinal fluid (CSF), based on {cite}`Causemann2025`.\n",
    "This network consist of two connected regions, namely the ventricular system $\\Omega_V$ and the subarachnoid space $\\Omega_{SAS}$.\n",
    "The subarachnoid space is the space between the membrane of the brain (pia matter) and the membrane towards the skull (dura matter).\n",
    "The ventrical system is a cavity within the brain where cells produce CSF.\n",
    "The CSF enters the brain at the top of the spinal coord. We will call this boundary $\\Gamma_{SSAS}$ (Spinal subarachnoid space).\n",
    "We consider the brain paraenchyma (the brain tissue) as being surrounded by CSF.\n",
    "The interface between the parenchyma and the CSF can be split into two regions, the surface of the lateral ventricles $\\Gamma_{LV}$ and the pial surface $\\Gamma_{pia}$.\n",
    "We consider no fluid flow through the pial surface. However, the ventricles produce fluid, and therefore we consider an influx through $\\Gamma_{LV}$.\n",
    "The CSF is surrounded by dura matter, which is denoted as $\\Gamma_{AM}$. This region is subdivided into an upper ($\\Gamma_{AM-U}$) and lower region ($\\Gamma_{AM-L}$).\n",
    "Fluid can penetrate the the upper region (and exit the system), while no flow occurs through the lower region.\n",
    "Summarizing, we can write the fluid equations as\n",
    "\n",
    "$$\n",
    "\\begin{align}\n",
    "\\mu \\Delta \\mathbf{u} + \\nabla p &= 0 &&\\text{in } \\Omega_{CSF}\\\\\n",
    "\\nabla \\cdot \\mathbf{u} &=0 && \\text{in } \\Omega_{CSF}\\\\\n",
    "\\mathbf{u} &= 0 &&\\text{in } \\Omega_{PAR}\\\\\n",
    "-\\mu \\left((\\nabla \\mathbf{u})\\cdot\\mathbf{n} + p \\mathbf{n}\\right)\\cdot \\mathbf{n}&= R_0(\\mathbf{u}\\cdot \\mathbf{n}) && \\text{on } \\Gamma_{AM-U}\\\\\n",
    "\\mathbf{u} \\cdot \\mathbf{t} &=0 &&\\text{on }\\Gamma_{AM-U}\\\\\n",
    "\\mathbf{u}&= 0 &&\\text{on } \\Gamma_{AM-L}\\cup\\Gamma_{pia}\\cup\\Gamma_{SSAS}\\\\\n",
    "\\mathbf{u}\\cdot \\mathbf{n} &=\\frac{1}{\\vert\\Gamma_{LV}\\vert}u_{in} && \\text{on } \\Gamma_{LV}\\\\\n",
    "\\mathbf{u}\\cdot\\mathbf{t} &= 0 && \\text{on } \\Gamma_{LV}\n",
    "\\end{align}\n",
    "$$\n"
   ]
  },
  {
   "cell_type": "markdown",
   "metadata": {},
   "source": [
    "We solve the set of linear equation with the {term}`FEM` and the following variational form:\n",
    "\n",
    "Find $u\\in H_g^1(\\mathrm{div}, \\Omega_{\\mathrm{CSF}})$, $p\\in L^2(\\Omega_{\\mathrm{CSF}})$ such that\n",
    "\n",
    "$$\n",
    "a(u, p, v, q) = L(v, q) \\quad \\forall v\\in H_0^1(\\mathrm{div}, \\Omega_{\\mathrm{CSF}}), q\\in L^2(\\Omega_{\\mathrm{CSF}})\n",
    "$$\n",
    "\n",
    "where\n",
    "\n",
    "$$\n",
    "\\begin{align*}\n",
    "a(u, p, v, q)&= \\int_{\\Omega_{CSF}} \\mu \\nabla \\mathbf{u} \\cdot \\nabla \\mathbf{v} - \\nabla \\cdot \\mathbf{v} p ~\\mathrm{d}x +  \\int_{\\Gamma_{AM-u}} R_0 \\mathbf{u}\\cdot \\mathbf{n} \\mathbf{n} \\cdot\\mathbf{v} ~\\mathrm{d}s+\\\\\n",
    "&+\\int_{\\mathcal{F}} -\\mu (\\{\\nabla \\mathbf{u}\\}\\cdot\\mathbf{n}_F) \\cdot \\left[\\mathbf{v}_t\\right] -\\mu (\\{\\nabla \\mathbf{v}\\}\\cdot \\mathbf{n}_F) \\cdot \\left[\\mathbf{u}_t\\right] + \\frac{\\sigma \\mu}{h_F}\\left[\\mathbf{u}_t\\right]~\\mathrm{d}s\\\\\n",
    "&+\\int_{\\Omega_{CSF}} \\nabla\\cdot \\mathbf{u}q~\\mathrm{d} x = 0.\n",
    "\\end{align*}\n",
    "$$\n",
    "\n",
    "and\n",
    "\n",
    "$$\n",
    "L(v, q) = 0.\n",
    "$$\n"
   ]
  },
  {
   "cell_type": "code",
   "execution_count": null,
   "metadata": {},
   "outputs": [],
   "source": []
  },
  {
   "cell_type": "code",
   "execution_count": null,
   "metadata": {},
   "outputs": [],
   "source": [
    "\n"
   ]
  },
  {
   "cell_type": "markdown",
   "metadata": {},
   "source": [
    "## References\n",
    "\n",
    "```{bibliography}\n",
    ":filter: docname in docnames\n",
    "```\n"
   ]
  },
  {
   "cell_type": "code",
   "execution_count": null,
   "metadata": {},
   "outputs": [],
   "source": []
  }
 ],
 "metadata": {
  "kernelspec": {
   "display_name": "Python 3 (ipykernel)",
   "language": "python",
   "name": "python3"
  },
  "language_info": {
   "codemirror_mode": {
    "name": "ipython",
    "version": 3
   },
   "file_extension": ".py",
   "mimetype": "text/x-python",
   "name": "python",
   "nbconvert_exporter": "python",
   "pygments_lexer": "ipython3",
   "version": "3.12.3"
  }
 },
 "nbformat": 4,
 "nbformat_minor": 4
}

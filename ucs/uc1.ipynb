{
 "cells": [
  {
   "cell_type": "markdown",
   "metadata": {},
   "source": [
    "# Use-case 1: Brain example\n"
   ]
  }
 ],
 "metadata": {
  "kernelspec": {
   "display_name": "ozone",
   "language": "python",
   "name": "python3"
  },
  "language_info": {
   "name": "python",
   "version": "3.12.4"
  }
 },
 "nbformat": 4,
 "nbformat_minor": 2
}
